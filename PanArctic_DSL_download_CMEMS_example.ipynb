{
 "cells": [
  {
   "cell_type": "markdown",
   "metadata": {},
   "source": [
    "# PanArctic DSL - Remote sensing Copernicus Marine data\n",
    "\n",
    "Pierre Priou 2022/02/23 at 11:31\n",
    "\n",
    "\n",
    "## Packages loading\n",
    "\n",
    "The Copernicus Marine Environment Monitoring Service (CMEMS) requires `motuclient` for downloading data. Here, I download monthly physical data—temperature, salinity, and current velocities—from the Hybrid Coordinate Ocean Model (HYCOM) over 36 depth layers (0-1062 m depth). For help downloading data check the [Copernicus help](https://help.marine.copernicus.eu/en/articles/5211063-how-to-use-the-motuclient-within-python-environment-e-g-spyder)."
   ]
  },
  {
   "cell_type": "code",
   "execution_count": 15,
   "metadata": {},
   "outputs": [],
   "source": [
    "import os\n",
    "import getpass\n",
    "import motuclient"
   ]
  },
  {
   "cell_type": "markdown",
   "metadata": {},
   "source": [
    "First we define a class `MotuOption` that is used to parse the motuclient options from a dictionary."
   ]
  },
  {
   "cell_type": "code",
   "execution_count": 3,
   "metadata": {},
   "outputs": [],
   "source": [
    "# Define MotuOptions class\n",
    "class MotuOptions:\n",
    "    def __init__(self, attrs: dict):\n",
    "        super(MotuOptions, self).__setattr__(\"attrs\", attrs)\n",
    "\n",
    "    def __setattr__(self, k, v):\n",
    "        self.attrs[k] = v\n",
    "\n",
    "    def __getattr__(self, k):\n",
    "        try:\n",
    "            return self.attrs[k]\n",
    "        except KeyError:\n",
    "            return None"
   ]
  },
  {
   "cell_type": "markdown",
   "metadata": {},
   "source": [
    "Then, we define a function `motu_options_parser` that post process `script_template` (from the copernicus website) to create a `dictionary` and returns a `dictionary` to feed the download of the data request. I slightly modified the function from CMEMS to be able to choose the output directory."
   ]
  },
  {
   "cell_type": "code",
   "execution_count": 22,
   "metadata": {},
   "outputs": [],
   "source": [
    "#! /usr/bin/env python3\n",
    "# -*- coding: utf-8 -*-\n",
    "__author__ = \"Copernicus Marine User Support Team\"\n",
    "__copyright__ = \"(C) 2021 E.U. Copernicus Marine Service Information\"\n",
    "__credits__ = [\"E.U. Copernicus Marine Service Information\"]\n",
    "__license__ = \"MIT License - You must cite this source\"\n",
    "__version__ = \"202105\"\n",
    "__maintainer__ = \"D. Bazin, E. DiMedio, J. Cedillovalcarce, C. Giordan\"\n",
    "__email__ = \"servicedesk dot cmems at mercator hyphen ocean dot eu\"\n",
    "\n",
    "def motu_option_parser(script_template, usr, pwd, output_directory, output_filename):\n",
    "    dictionary = dict(\n",
    "        [e.strip().partition(\" \")[::2] for e in script_template.split('--')])\n",
    "    dictionary['variable'] = [value for (var, value) in [e.strip().partition(\" \")[::2] for e in script_template.split('--')] if var == 'variable']  # pylint: disable=line-too-long\n",
    "    for k, v in list(dictionary.items()):\n",
    "        if v == '<OUTPUT_DIRECTORY>':\n",
    "            dictionary[k] = output_directory\n",
    "        if v == '<OUTPUT_FILENAME>':\n",
    "            dictionary[k] = output_filename\n",
    "        if v == '<USERNAME>':\n",
    "            dictionary[k] = usr\n",
    "        if v == '<PASSWORD>':\n",
    "            dictionary[k] = pwd\n",
    "        if k in ['longitude-min', 'longitude-max', 'latitude-min', \n",
    "                 'latitude-max', 'depth-min', 'depth-max']:\n",
    "            dictionary[k] = float(v)\n",
    "        if k in ['date-min', 'date-max']:\n",
    "            dictionary[k] = v[1:-1]\n",
    "        dictionary[k.replace('-','_')] = dictionary.pop(k)\n",
    "    dictionary.pop('python')\n",
    "    dictionary['auth_mode'] = 'cas'\n",
    "    return dictionary"
   ]
  },
  {
   "cell_type": "markdown",
   "metadata": {},
   "source": [
    "## Load credentials\n",
    "\n",
    "Load personal credentials through a GUI to allow for downloading data."
   ]
  },
  {
   "cell_type": "code",
   "execution_count": 23,
   "metadata": {},
   "outputs": [
    {
     "name": "stdout",
     "output_type": "stream",
     "text": [
      "Enter your username: ppriou\n",
      "Enter your password: ········\n"
     ]
    }
   ],
   "source": [
    "USERNAME = input('Enter your username: ')\n",
    "PASSWORD = getpass.getpass('Enter your password: ')"
   ]
  },
  {
   "cell_type": "markdown",
   "metadata": {},
   "source": [
    "## Setup data request template\n",
    "\n",
    "Setup the `motuclient` template command line. The request is retrieved from the Copernicus website ([more info here](https://help.marine.copernicus.eu/en/articles/4899195-how-to-generate-and-run-a-script-to-download-a-subset-of-a-dataset-from-the-copernicus-marine-data-store#h_dee5a134b1)) and pasted below."
   ]
  },
  {
   "cell_type": "code",
   "execution_count": 24,
   "metadata": {},
   "outputs": [],
   "source": [
    "script_template = 'python -m motuclient \\\n",
    "--motu https://my.cmems-du.eu/motu-web/Motu \\\n",
    "--service-id ARCTIC_MULTIYEAR_PHY_002_003-TDS \\\n",
    "--product-id cmems_mod_arc_phy_my_topaz4_P1M \\\n",
    "--longitude-min -165 --longitude-max 40 \\\n",
    "--latitude-min 60 --latitude-max 85 \\\n",
    "--date-min \"2015-01-15 00:00:00\" --date-max \"2015-01-15 00:00:00\" \\\n",
    "--depth-min 0 --depth-max 1062 \\\n",
    "--variable latitude --variable longitude --variable so --variable thetao --variable vxo --variable vyo \\\n",
    "--out-dir <OUTPUT_DIRECTORY> --out-name <OUTPUT_FILENAME> \\\n",
    "--user <USERNAME> --pwd <PASSWORD>'"
   ]
  },
  {
   "cell_type": "code",
   "execution_count": 31,
   "metadata": {},
   "outputs": [
    {
     "name": "stdout",
     "output_type": "stream",
     "text": [
      "python -m motuclient --motu https://my.cmems-du.eu/motu-web/Motu --service-id ARCTIC_MULTIYEAR_PHY_002_003-TDS --product-id cmems_mod_arc_phy_my_topaz4_P1M --longitude-min -165 --longitude-max 40 --latitude-min 60 --latitude-max 85 --date-min \"2015-01-15 00:00:00\" --date-max \"2015-01-15 00:00:00\" --depth-min 0 --depth-max 1062 --variable latitude --variable longitude --variable so --variable thetao --variable vxo --variable vyo --out-dir <OUTPUT_DIRECTORY> --out-name <OUTPUT_FILENAME> --user <USERNAME> --pwd <PASSWORD>\n"
     ]
    }
   ],
   "source": [
    "print(script_template)"
   ]
  },
  {
   "cell_type": "markdown",
   "metadata": {},
   "source": [
    "Set output directory and filename."
   ]
  },
  {
   "cell_type": "code",
   "execution_count": 26,
   "metadata": {},
   "outputs": [],
   "source": [
    "OUTPUT_DIRECTORY = 'data/remote_sensing/physics'\n",
    "OUTPUT_FILENAME = '20150115_physics.nc'"
   ]
  },
  {
   "cell_type": "markdown",
   "metadata": {},
   "source": [
    "To create a dictionary (`data_request_options_dict_automated`) we cakk the function `motu_option_parser()` by passing in arguments `script_template`, `USERNAME`, `PASSWORD`, `OUTPUT_DIRECTORY` and `OUTPUT_FILENAME`."
   ]
  },
  {
   "cell_type": "code",
   "execution_count": 28,
   "metadata": {},
   "outputs": [],
   "source": [
    "data_request_options_dict_automated = motu_option_parser(script_template, USERNAME, PASSWORD, OUTPUT_DIRECTORY, OUTPUT_FILENAME)"
   ]
  },
  {
   "cell_type": "code",
   "execution_count": 29,
   "metadata": {},
   "outputs": [
    {
     "name": "stdout",
     "output_type": "stream",
     "text": [
      "{'motu': 'https://my.cmems-du.eu/motu-web/Motu', 'service_id': 'ARCTIC_MULTIYEAR_PHY_002_003-TDS', 'product_id': 'cmems_mod_arc_phy_my_topaz4_P1M', 'longitude_min': -165.0, 'longitude_max': 40.0, 'latitude_min': 60.0, 'latitude_max': 85.0, 'date_min': '2015-01-15 00:00:00', 'date_max': '2015-01-15 00:00:00', 'depth_min': 0.0, 'depth_max': 1062.0, 'variable': ['latitude', 'longitude', 'so', 'thetao', 'vxo', 'vyo'], 'out_dir': 'data/remote_sensing/physics', 'out_name': '20150115_physics.nc', 'user': 'ppriou', 'pwd': 'GPjB2gEP2@*n7a', 'auth_mode': 'cas'}\n"
     ]
    }
   ],
   "source": [
    "print(data_request_options_dict_automated)"
   ]
  },
  {
   "cell_type": "markdown",
   "metadata": {},
   "source": [
    "## Submit data request"
   ]
  },
  {
   "cell_type": "code",
   "execution_count": 30,
   "metadata": {},
   "outputs": [],
   "source": [
    "motuclient.motu_api.execute_request(MotuOptions(data_request_options_dict_automated))"
   ]
  },
  {
   "cell_type": "markdown",
   "metadata": {},
   "source": [
    "The data file is quite large (~128 MB), so I may need to find a way to reduce the size within a loop."
   ]
  },
  {
   "cell_type": "markdown",
   "metadata": {},
   "source": [
    "## Data check\n",
    "\n",
    "Open, read, and plot the NetCDF I just downloaded to check whether it worked or not."
   ]
  },
  {
   "cell_type": "code",
   "execution_count": 36,
   "metadata": {},
   "outputs": [
    {
     "name": "stdout",
     "output_type": "stream",
     "text": [
      "<xarray.Dataset>\n",
      "Dimensions:        (depth: 36, time: 1, x: 546, y: 410)\n",
      "Coordinates:\n",
      "  * depth          (depth) float32 0.0 2.0 3.0 4.0 ... 644.0 763.0 902.0 1062.0\n",
      "    latitude       (y, x) float32 ...\n",
      "  * x              (x) float32 -34.125 -34.0 -33.875 ... 33.75 33.875 34.0\n",
      "  * y              (y) float32 -34.125 -34.0 -33.875 ... 16.75 16.875 17.0\n",
      "  * time           (time) datetime64[ns] 2015-01-15\n",
      "    longitude      (y, x) float32 ...\n",
      "Data variables:\n",
      "    stereographic  int32 ...\n",
      "    thetao         (time, depth, y, x) float32 ...\n",
      "    so             (time, depth, y, x) float32 ...\n",
      "    vxo            (time, depth, y, x) float32 ...\n",
      "    vyo            (time, depth, y, x) float32 ...\n",
      "Attributes:\n",
      "    institution:                     NERSC, Thormoehlens gate 47, N-5006 Berg...\n",
      "    history:                         20211013:Created by program hyc2proj, ve...\n",
      "    source:                          NERSC-HYCOM model fields\n",
      "    references:                      http://topaz.nersc.no\n",
      "    FROM_ORIGINAL_FILE__field_type:  Files based on file type nersc_weekly\n",
      "    Conventions:                     CF-1.4\n",
      "    title:                           Arctic Ocean Physics Reanalysis, 12.5km ...\n",
      "    field_date:                      2020-12-15\n",
      "    version:                         v4b\n",
      "    _CoordSysBuilder:                ucar.nc2.dataset.conv.CF1Convention\n",
      "    comment:                         \n"
     ]
    }
   ],
   "source": [
    "# Load package to interact with NetCDF file\n",
    "import xarray as xr\n",
    "\n",
    "# Open and Read the file\n",
    "DS = xr.open_dataset(OUTPUT_DIRECTORY + \"/\" + OUTPUT_FILENAME)\n",
    "print(DS)"
   ]
  },
  {
   "cell_type": "code",
   "execution_count": 39,
   "metadata": {},
   "outputs": [
    {
     "data": {
      "text/plain": [
       "<matplotlib.collections.QuadMesh at 0x221a85c3250>"
      ]
     },
     "execution_count": 39,
     "metadata": {},
     "output_type": "execute_result"
    },
    {
     "data": {
      "image/png": "[encoded data removed]",
      "text/plain": [
       "<Figure size 432x288 with 2 Axes>"
      ]
     },
     "metadata": {
      "needs_background": "light"
     },
     "output_type": "display_data"
    }
   ],
   "source": [
    "# Plot a map of temperature at 644 m depth for 15th January 2015\n",
    "DS.thetao.sel(time='2015-01-15', depth=644.0).plot()"
   ]
  }
 ],
 "metadata": {
  "kernelspec": {
   "display_name": "Python 3",
   "language": "python",
   "name": "python3"
  },
  "language_info": {
   "codemirror_mode": {
    "name": "ipython",
    "version": 3
   },
   "file_extension": ".py",
   "mimetype": "text/x-python",
   "name": "python",
   "nbconvert_exporter": "python",
   "pygments_lexer": "ipython3",
   "version": "3.8.3"
  }
 },
 "nbformat": 4,
 "nbformat_minor": 4
}
