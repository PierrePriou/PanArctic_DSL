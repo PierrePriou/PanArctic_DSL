{
 "cells": [
  {
   "cell_type": "markdown",
   "metadata": {},
   "source": [
    "# PanArctic DSL - Download Copernicus Marine data\n",
    "\n",
    "Pierre Priou 2022-03-03\n",
    "\n",
    "## Packages loading\n",
    "\n",
    "The Copernicus Marine Environment Monitoring Service (CMEMS) requires `motuclient` for downloading data. Here, I download monthly physical data—temperature, salinity, and current velocities—from the Hybrid Coordinate Ocean Model (HYCOM) over several depth (0, 222, 380, 644, 1062 m depth). For help downloading data check the [Copernicus help](https://help.marine.copernicus.eu/en/articles/5211063-how-to-use-the-motuclient-within-python-environment-e-g-spyder)."
   ]
  },
  {
   "cell_type": "code",
   "execution_count": 1,
   "metadata": {},
   "outputs": [],
   "source": [
    "import os\n",
    "import getpass\n",
    "import motuclient\n",
    "import datetime as dt\n",
    "import pandas as pd"
   ]
  },
  {
   "cell_type": "markdown",
   "metadata": {},
   "source": [
    "Define functions used for downloading CMEMS data."
   ]
  },
  {
   "cell_type": "code",
   "execution_count": 2,
   "metadata": {},
   "outputs": [],
   "source": [
    "# Define MotuOptions class\n",
    "class MotuOptions:\n",
    "    def __init__(self, attrs: dict):\n",
    "        super(MotuOptions, self).__setattr__(\"attrs\", attrs)\n",
    "\n",
    "    def __setattr__(self, k, v):\n",
    "        self.attrs[k] = v\n",
    "\n",
    "    def __getattr__(self, k):\n",
    "        try:\n",
    "            return self.attrs[k]\n",
    "        except KeyError:\n",
    "            return None"
   ]
  },
  {
   "cell_type": "code",
   "execution_count": 3,
   "metadata": {},
   "outputs": [],
   "source": [
    "# Define motu_option_parser\n",
    "def motu_option_parser(script_template, usr, pwd, output_directory):\n",
    "    dictionary = dict(\n",
    "        [e.strip().partition(\" \")[::2] for e in script_template.split('--')])\n",
    "    dictionary['variable'] = [value for (var, value) in [e.strip().partition(\" \")[::2] for e in script_template.split('--')] if var == 'variable']  # pylint: disable=line-too-long\n",
    "    for k, v in list(dictionary.items()):\n",
    "        if v == '<OUTPUT_DIRECTORY>':\n",
    "            dictionary[k] = output_directory\n",
    "        #if v == '<OUTPUT_FILENAME>':\n",
    "        #    dictionary[k] = output_filename\n",
    "        if v == '<USERNAME>':\n",
    "            dictionary[k] = usr\n",
    "        if v == '<PASSWORD>':\n",
    "            dictionary[k] = pwd\n",
    "        if k in ['longitude-min', 'longitude-max', 'latitude-min', \n",
    "                 'latitude-max', 'depth-min', 'depth-max']:\n",
    "            dictionary[k] = float(v)\n",
    "        if k in ['date-min', 'date-max']:\n",
    "            dictionary[k] = v[1:-1]\n",
    "        dictionary[k.replace('-','_')] = dictionary.pop(k)\n",
    "    dictionary.pop('python')\n",
    "    dictionary['auth_mode'] = 'cas'\n",
    "    return dictionary"
   ]
  },
  {
   "cell_type": "markdown",
   "metadata": {},
   "source": [
    "Load credentials."
   ]
  },
  {
   "cell_type": "code",
   "execution_count": 4,
   "metadata": {
    "scrolled": true
   },
   "outputs": [
    {
     "name": "stdout",
     "output_type": "stream",
     "text": [
      "Enter your username: ppriou\n",
      "Enter your password: ········\n"
     ]
    }
   ],
   "source": [
    "USERNAME = input('Enter your username: ')\n",
    "PASSWORD = getpass.getpass('Enter your password: ')"
   ]
  },
  {
   "cell_type": "markdown",
   "metadata": {},
   "source": [
    "Define the geographical area and timeseries subset that I want to download. Data is averaged on the 15th of every month."
   ]
  },
  {
   "cell_type": "code",
   "execution_count": 5,
   "metadata": {},
   "outputs": [],
   "source": [
    "# Area definition\n",
    "lon_min = -160\n",
    "lon_max = 40\n",
    "lat_min = 60\n",
    "lat_max = 85\n",
    "\n",
    "# Date definitions\n",
    "date_start = dt.datetime(2014, 12, 15)\n",
    "date_end = dt.datetime(2017, 12, 15)\n",
    "daterange = pd.date_range(date_start, date_end, freq = \"MS\") + pd.DateOffset(days=14)"
   ]
  },
  {
   "cell_type": "markdown",
   "metadata": {},
   "source": [
    "Set output directory."
   ]
  },
  {
   "cell_type": "code",
   "execution_count": 6,
   "metadata": {},
   "outputs": [],
   "source": [
    "OUTPUT_DIRECTORY = 'data/remote_sensing/physics'"
   ]
  },
  {
   "cell_type": "markdown",
   "metadata": {},
   "source": [
    "## Download data\n",
    "\n",
    "Setup the `motuclient` template command line. The request for the ARCTIC_MULTIYEAR_PHY_002_003-TDS dataset is retrieved from the Copernicus website ([more info here](https://help.marine.copernicus.eu/en/articles/4899195-how-to-generate-and-run-a-script-to-download-a-subset-of-a-dataset-from-the-copernicus-marine-data-store#h_dee5a134b1)) and pasted below."
   ]
  },
  {
   "cell_type": "code",
   "execution_count": 7,
   "metadata": {},
   "outputs": [],
   "source": [
    "# Depths of interest\n",
    "depth = [0, 222, 380, 644, 1062]"
   ]
  },
  {
   "cell_type": "markdown",
   "metadata": {},
   "source": [
    "Setup the for loop to download data."
   ]
  },
  {
   "cell_type": "code",
   "execution_count": 9,
   "metadata": {
    "scrolled": true
   },
   "outputs": [
    {
     "name": "stdout",
     "output_type": "stream",
     "text": [
      "Downloading 2015-01-15 1062 m\n",
      "Downloading 2015-02-15 1062 m\n",
      "Downloading 2015-03-15 1062 m\n",
      "Downloading 2015-04-15 1062 m\n",
      "Downloading 2015-05-15 1062 m\n",
      "Downloading 2015-06-15 1062 m\n",
      "Downloading 2015-07-15 1062 m\n",
      "Downloading 2015-08-15 1062 m\n",
      "Downloading 2015-09-15 1062 m\n",
      "Downloading 2015-10-15 1062 m\n",
      "Downloading 2015-11-15 1062 m\n",
      "Downloading 2015-12-15 1062 m\n",
      "Downloading 2016-01-15 1062 m\n",
      "Downloading 2016-02-15 1062 m\n",
      "Downloading 2016-03-15 1062 m\n",
      "Downloading 2016-04-15 1062 m\n",
      "Downloading 2016-05-15 1062 m\n",
      "Downloading 2016-06-15 1062 m\n",
      "Downloading 2016-07-15 1062 m\n",
      "Downloading 2016-08-15 1062 m\n",
      "Downloading 2016-09-15 1062 m\n",
      "Downloading 2016-10-15 1062 m\n",
      "Downloading 2016-11-15 1062 m\n",
      "Downloading 2016-12-15 1062 m\n",
      "Downloading 2017-01-15 1062 m\n",
      "Downloading 2017-02-15 1062 m\n",
      "Downloading 2017-03-15 1062 m\n",
      "Downloading 2017-04-15 1062 m\n",
      "Downloading 2017-05-15 1062 m\n",
      "Downloading 2017-06-15 1062 m\n",
      "Downloading 2017-07-15 1062 m\n",
      "Downloading 2017-08-15 1062 m\n",
      "Downloading 2017-09-15 1062 m\n",
      "Downloading 2017-10-15 1062 m\n",
      "Downloading 2017-11-15 1062 m\n",
      "Downloading 2017-12-15 1062 m\n",
      "Download finished.\n"
     ]
    }
   ],
   "source": [
    "for z in depth:\n",
    "    for date in daterange:\n",
    "        request_tmp = 'python -m motuclient \\\n",
    "        --motu https://my.cmems-du.eu/motu-web/Motu \\\n",
    "        --service-id ARCTIC_MULTIYEAR_PHY_002_003-TDS \\\n",
    "        --product-id cmems_mod_arc_phy_my_topaz4_P1M \\\n",
    "        --longitude-min '+ str(lon_min) +' \\\n",
    "        --longitude-max '+ str(lon_max) +' \\\n",
    "        --latitude-min '+ str(lat_min) +' \\\n",
    "        --latitude-max '+ str(lat_max) +' \\\n",
    "        --date-min \"'+ str(date) +'\" \\\n",
    "        --date-max \"'+ str(date) +'\" \\\n",
    "        --depth-min '+ str(z) +' \\\n",
    "        --depth-max '+ str(z) +' \\\n",
    "        --variable latitude --variable longitude --variable so --variable thetao --variable vxo --variable vyo \\\n",
    "        --out-dir <OUTPUT_DIRECTORY> \\\n",
    "        --out-name '+ str(date.year) + str(f\"{date:%m}\") + str(f\"{date:%d}\") + \"_\" + str(z) + \"m_phy_CMEMS.nc\" +' \\\n",
    "        --user <USERNAME> --pwd <PASSWORD>'\n",
    "        print(\"Downloading \" + str(date.year) + \"-\" + str(f\"{date:%m}\") + \"-\" + str(f\"{date:%d}\") + \" \" + str(z) + \" m\")\n",
    "        # Setup request\n",
    "        data_request_options_dict_automated = motu_option_parser(request_tmp, USERNAME, PASSWORD, OUTPUT_DIRECTORY)\n",
    "        # Download requested data\n",
    "        motuclient.motu_api.execute_request(MotuOptions(data_request_options_dict_automated))\n",
    "        if date == daterange[-1]:\n",
    "            print(\"Download finished.\")"
   ]
  },
  {
   "cell_type": "markdown",
   "metadata": {},
   "source": [
    "Data is downloaded as NetCDF. I then combine them and analyzed them in R."
   ]
  }
 ],
 "metadata": {
  "kernelspec": {
   "display_name": "Python 3",
   "language": "python",
   "name": "python3"
  },
  "language_info": {
   "codemirror_mode": {
    "name": "ipython",
    "version": 3
   },
   "file_extension": ".py",
   "mimetype": "text/x-python",
   "name": "python",
   "nbconvert_exporter": "python",
   "pygments_lexer": "ipython3",
   "version": "3.8.3"
  }
 },
 "nbformat": 4,
 "nbformat_minor": 4
}
