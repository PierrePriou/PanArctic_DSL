{
 "cells": [
  {
   "cell_type": "markdown",
   "metadata": {},
   "source": [
    "# PanArctic DSL - Download Copernicus Marine data\n",
    "\n",
    "Pierre Priou 2022-03-03\n",
    "\n",
    "## Packages loading\n",
    "\n",
    "The Copernicus Marine Environment Monitoring Service (CMEMS) requires `motuclient` for downloading data. Here, I download monthly physical data—temperature, salinity, and current velocities—from the Hybrid Coordinate Ocean Model (HYCOM) over several depth (0, 222, 380, 644, 1062 m depth). For help downloading data check the [Copernicus help](https://help.marine.copernicus.eu/en/articles/5211063-how-to-use-the-motuclient-within-python-environment-e-g-spyder)."
   ]
  },
  {
   "cell_type": "code",
   "execution_count": 1,
   "metadata": {},
   "outputs": [],
   "source": [
    "import os\n",
    "import getpass\n",
    "import motuclient\n",
    "import datetime as dt\n",
    "import pandas as pd\n",
    "import xarray as xr # For reading NetCDF files"
   ]
  },
  {
   "cell_type": "markdown",
   "metadata": {},
   "source": [
    "Define functions used for downloading CMEMS data."
   ]
  },
  {
   "cell_type": "code",
   "execution_count": 2,
   "metadata": {},
   "outputs": [],
   "source": [
    "# Define MotuOptions class\n",
    "class MotuOptions:\n",
    "    def __init__(self, attrs: dict):\n",
    "        super(MotuOptions, self).__setattr__(\"attrs\", attrs)\n",
    "\n",
    "    def __setattr__(self, k, v):\n",
    "        self.attrs[k] = v\n",
    "\n",
    "    def __getattr__(self, k):\n",
    "        try:\n",
    "            return self.attrs[k]\n",
    "        except KeyError:\n",
    "            return None"
   ]
  },
  {
   "cell_type": "code",
   "execution_count": 3,
   "metadata": {},
   "outputs": [],
   "source": [
    "# Define motu_option_parser\n",
    "def motu_option_parser(script_template, usr, pwd, output_directory):\n",
    "    dictionary = dict(\n",
    "        [e.strip().partition(\" \")[::2] for e in script_template.split('--')])\n",
    "    dictionary['variable'] = [value for (var, value) in [e.strip().partition(\" \")[::2] for e in script_template.split('--')] if var == 'variable']  # pylint: disable=line-too-long\n",
    "    for k, v in list(dictionary.items()):\n",
    "        if v == '<OUTPUT_DIRECTORY>':\n",
    "            dictionary[k] = output_directory\n",
    "        #if v == '<OUTPUT_FILENAME>':\n",
    "        #    dictionary[k] = output_filename\n",
    "        if v == '<USERNAME>':\n",
    "            dictionary[k] = usr\n",
    "        if v == '<PASSWORD>':\n",
    "            dictionary[k] = pwd\n",
    "        if k in ['longitude-min', 'longitude-max', 'latitude-min', \n",
    "                 'latitude-max', 'depth-min', 'depth-max']:\n",
    "            dictionary[k] = float(v)\n",
    "        if k in ['date-min', 'date-max']:\n",
    "            dictionary[k] = v[1:-1]\n",
    "        dictionary[k.replace('-','_')] = dictionary.pop(k)\n",
    "    dictionary.pop('python')\n",
    "    dictionary['auth_mode'] = 'cas'\n",
    "    return dictionary"
   ]
  },
  {
   "cell_type": "markdown",
   "metadata": {},
   "source": [
    "Load credentials."
   ]
  },
  {
   "cell_type": "code",
   "execution_count": 4,
   "metadata": {
    "scrolled": false
   },
   "outputs": [
    {
     "name": "stdout",
     "output_type": "stream",
     "text": [
      "Enter your username: ppriou\n",
      "Enter your password: ········\n"
     ]
    }
   ],
   "source": [
    "USERNAME = input('Enter your username: ')\n",
    "PASSWORD = getpass.getpass('Enter your password: ')"
   ]
  },
  {
   "cell_type": "markdown",
   "metadata": {},
   "source": [
    "## Download data"
   ]
  },
  {
   "cell_type": "markdown",
   "metadata": {},
   "source": [
    "Setup the `motuclient` template command line. Datasets requests are retrieved from the Copernicus website ([more info here](https://help.marine.copernicus.eu/en/articles/4899195-how-to-generate-and-run-a-script-to-download-a-subset-of-a-dataset-from-the-copernicus-marine-data-store#h_dee5a134b1)) and pasted below."
   ]
  },
  {
   "cell_type": "markdown",
   "metadata": {},
   "source": [
    "### Arctic Ocean Physics Reanalysis\n",
    "\n",
    "I download the [ARCTIC_MULTIYEAR_PHY_002_003-TDS](https://resources.marine.copernicus.eu/product-detail/ARCTIC_MULTIYEAR_PHY_002_003/INFORMATION). Data resolution is 12.5 x 12.5 km on a Polar stereographic North projection."
   ]
  },
  {
   "cell_type": "markdown",
   "metadata": {},
   "source": [
    "Define the geographical area and timeseries subset that I want to download. Data is averaged on the 15th of every month."
   ]
  },
  {
   "cell_type": "code",
   "execution_count": 5,
   "metadata": {},
   "outputs": [],
   "source": [
    "# Area definition\n",
    "lon_min = -155\n",
    "lon_max = 40\n",
    "lat_min = 60\n",
    "lat_max = 85\n",
    "\n",
    "# Date definitions\n",
    "date_start = dt.datetime(2014, 12, 15)\n",
    "date_end = dt.datetime(2017, 12, 15)\n",
    "daterange = pd.date_range(date_start, date_end, freq = \"MS\") + pd.DateOffset(days=14)"
   ]
  },
  {
   "cell_type": "markdown",
   "metadata": {},
   "source": [
    "Set output directory."
   ]
  },
  {
   "cell_type": "code",
   "execution_count": 21,
   "metadata": {},
   "outputs": [],
   "source": [
    "OUTPUT_DIRECTORY = 'data/remote_sensing/physics/phy_266_318m'"
   ]
  },
  {
   "cell_type": "code",
   "execution_count": 12,
   "metadata": {},
   "outputs": [],
   "source": [
    "# Depths of interest\n",
    "depth = [266, 318]"
   ]
  },
  {
   "cell_type": "markdown",
   "metadata": {},
   "source": [
    "Setup the for loop to download data."
   ]
  },
  {
   "cell_type": "code",
   "execution_count": 23,
   "metadata": {
    "scrolled": true
   },
   "outputs": [
    {
     "name": "stdout",
     "output_type": "stream",
     "text": [
      "Downloading 2015-01-15 266 m\n",
      "Downloading 2015-02-15 266 m\n",
      "Downloading 2015-03-15 266 m\n",
      "Downloading 2015-04-15 266 m\n",
      "Downloading 2015-05-15 266 m\n",
      "Downloading 2015-06-15 266 m\n",
      "Downloading 2015-07-15 266 m\n",
      "Downloading 2015-08-15 266 m\n",
      "Downloading 2015-09-15 266 m\n",
      "Downloading 2015-10-15 266 m\n",
      "Downloading 2015-11-15 266 m\n",
      "Downloading 2015-12-15 266 m\n",
      "Downloading 2016-01-15 266 m\n",
      "Downloading 2016-02-15 266 m\n",
      "Downloading 2016-03-15 266 m\n",
      "Downloading 2016-04-15 266 m\n",
      "Downloading 2016-05-15 266 m\n",
      "Downloading 2016-06-15 266 m\n",
      "Downloading 2016-07-15 266 m\n",
      "Downloading 2016-08-15 266 m\n",
      "Downloading 2016-09-15 266 m\n",
      "Downloading 2016-10-15 266 m\n",
      "Downloading 2016-11-15 266 m\n",
      "Downloading 2016-12-15 266 m\n",
      "Downloading 2017-01-15 266 m\n",
      "Downloading 2017-02-15 266 m\n",
      "Downloading 2017-03-15 266 m\n",
      "Downloading 2017-04-15 266 m\n",
      "Downloading 2017-05-15 266 m\n",
      "Downloading 2017-06-15 266 m\n",
      "Downloading 2017-07-15 266 m\n",
      "Downloading 2017-08-15 266 m\n",
      "Downloading 2017-09-15 266 m\n",
      "Downloading 2017-10-15 266 m\n",
      "Downloading 2017-11-15 266 m\n",
      "Downloading 2017-12-15 266 m\n",
      "Download 266m finished.\n",
      "Downloading 2015-01-15 318 m\n",
      "Downloading 2015-02-15 318 m\n",
      "Downloading 2015-03-15 318 m\n",
      "Downloading 2015-04-15 318 m\n",
      "Downloading 2015-05-15 318 m\n",
      "Downloading 2015-06-15 318 m\n",
      "Downloading 2015-07-15 318 m\n",
      "Downloading 2015-08-15 318 m\n",
      "Downloading 2015-09-15 318 m\n",
      "Downloading 2015-10-15 318 m\n",
      "Downloading 2015-11-15 318 m\n",
      "Downloading 2015-12-15 318 m\n",
      "Downloading 2016-01-15 318 m\n",
      "Downloading 2016-02-15 318 m\n",
      "Downloading 2016-03-15 318 m\n",
      "Downloading 2016-04-15 318 m\n",
      "Downloading 2016-05-15 318 m\n",
      "Downloading 2016-06-15 318 m\n",
      "Downloading 2016-07-15 318 m\n",
      "Downloading 2016-08-15 318 m\n",
      "Downloading 2016-09-15 318 m\n",
      "Downloading 2016-10-15 318 m\n",
      "Downloading 2016-11-15 318 m\n",
      "Downloading 2016-12-15 318 m\n",
      "Downloading 2017-01-15 318 m\n",
      "Downloading 2017-02-15 318 m\n",
      "Downloading 2017-03-15 318 m\n",
      "Downloading 2017-04-15 318 m\n",
      "Downloading 2017-05-15 318 m\n",
      "Downloading 2017-06-15 318 m\n",
      "Downloading 2017-07-15 318 m\n",
      "Downloading 2017-08-15 318 m\n",
      "Downloading 2017-09-15 318 m\n",
      "Downloading 2017-10-15 318 m\n",
      "Downloading 2017-11-15 318 m\n",
      "Downloading 2017-12-15 318 m\n",
      "Download 318m finished.\n"
     ]
    }
   ],
   "source": [
    "for z in depth:\n",
    "    for date in daterange:\n",
    "        request_tmp = 'python -m motuclient \\\n",
    "        --motu https://my.cmems-du.eu/motu-web/Motu \\\n",
    "        --service-id ARCTIC_MULTIYEAR_PHY_002_003-TDS \\\n",
    "        --product-id cmems_mod_arc_phy_my_topaz4_P1M \\\n",
    "        --longitude-min '+ str(lon_min) +' \\\n",
    "        --longitude-max '+ str(lon_max) +' \\\n",
    "        --latitude-min '+ str(lat_min) +' \\\n",
    "        --latitude-max '+ str(lat_max) +' \\\n",
    "        --date-min \"'+ str(date) +'\" \\\n",
    "        --date-max \"'+ str(date) +'\" \\\n",
    "        --depth-min '+ str(z) +' \\\n",
    "        --depth-max '+ str(z) +' \\\n",
    "        --variable latitude --variable longitude --variable mlotst --variable siconc \\\n",
    "        --variable sithick --variable so --variable thetao --variable vxo --variable vyo \\\n",
    "        --out-dir <OUTPUT_DIRECTORY> \\\n",
    "        --out-name '+ str(date.year) + str(f\"{date:%m}\") + str(f\"{date:%d}\") + \"_\" + str(z) + \"m_phy_CMEMS.nc\" +' \\\n",
    "        --user <USERNAME> --pwd <PASSWORD>'\n",
    "        print(\"Downloading \" + str(date.year) + \"-\" + str(f\"{date:%m}\") + \"-\" + str(f\"{date:%d}\") + \" \" + str(z) + \" m\")\n",
    "        # Setup request\n",
    "        data_request_options_dict_automated = motu_option_parser(request_tmp, USERNAME, PASSWORD, OUTPUT_DIRECTORY)\n",
    "        # Download requested data\n",
    "        motuclient.motu_api.execute_request(MotuOptions(data_request_options_dict_automated))\n",
    "        if date == daterange[-1]:\n",
    "            print(\"Download \" + str(z) + \"m finished.\")"
   ]
  },
  {
   "cell_type": "markdown",
   "metadata": {},
   "source": [
    "Data is downloaded as NetCDF. I then combine them and analyzed them in R."
   ]
  },
  {
   "cell_type": "markdown",
   "metadata": {},
   "source": [
    "#### Data check\n",
    "\n",
    "Open, read, and plot the NetCDF I just downloaded to check whether it worked or not."
   ]
  },
  {
   "cell_type": "code",
   "execution_count": 31,
   "metadata": {},
   "outputs": [
    {
     "name": "stdout",
     "output_type": "stream",
     "text": [
      "<xarray.Dataset>\n",
      "Dimensions:        (depth: 1, time: 1, x: 546, y: 367)\n",
      "Coordinates:\n",
      "    latitude       (y, x) float32 ...\n",
      "  * depth          (depth) float32 0.0\n",
      "  * x              (x) float32 -34.125 -34.0 -33.875 ... 33.75 33.875 34.0\n",
      "  * y              (y) float32 -34.125 -34.0 -33.875 ... 11.375 11.5 11.625\n",
      "  * time           (time) datetime64[ns] 2015-02-15\n",
      "    longitude      (y, x) float32 ...\n",
      "Data variables:\n",
      "    mlotst         (time, y, x) float32 ...\n",
      "    siconc         (time, y, x) float32 ...\n",
      "    thetao         (time, depth, y, x) float32 ...\n",
      "    sithick        (time, y, x) float32 ...\n",
      "    vxo            (time, depth, y, x) float32 ...\n",
      "    vyo            (time, depth, y, x) float32 ...\n",
      "    stereographic  int32 ...\n",
      "    so             (time, depth, y, x) float32 ...\n",
      "Attributes:\n",
      "    institution:                     NERSC, Thormoehlens gate 47, N-5006 Berg...\n",
      "    history:                         20211013:Created by program hyc2proj, ve...\n",
      "    source:                          NERSC-HYCOM model fields\n",
      "    references:                      http://topaz.nersc.no\n",
      "    FROM_ORIGINAL_FILE__field_type:  Files based on file type nersc_weekly\n",
      "    Conventions:                     CF-1.4\n",
      "    title:                           Arctic Ocean Physics Reanalysis, 12.5km ...\n",
      "    field_date:                      2020-12-15\n",
      "    version:                         v4b\n",
      "    _CoordSysBuilder:                ucar.nc2.dataset.conv.CF1Convention\n",
      "    comment:                         \n"
     ]
    }
   ],
   "source": [
    "# Open and read a file\n",
    "PHY = xr.open_dataset(OUTPUT_DIRECTORY + \"/20150716_0m_phy_CMEMS.nc\")\n",
    "print(PHY)"
   ]
  },
  {
   "cell_type": "code",
   "execution_count": 27,
   "metadata": {
    "scrolled": true
   },
   "outputs": [
    {
     "data": {
      "text/plain": [
       "<matplotlib.collections.QuadMesh at 0x18881dedd90>"
      ]
     },
     "execution_count": 27,
     "metadata": {},
     "output_type": "execute_result"
    },
    {
     "data": {
      "image/png": "[encoded data removed]",
      "text/plain": [
       "<Figure size 432x288 with 2 Axes>"
      ]
     },
     "metadata": {
      "needs_background": "light"
     },
     "output_type": "display_data"
    }
   ],
   "source": [
    "# Plot map of potential temperature at 0 m for Feburary 2015\n",
    "PHY.thetao.sel().plot()"
   ]
  },
  {
   "cell_type": "markdown",
   "metadata": {},
   "source": [
    "### Global Ocean Biogeochemsitry Hindcast\n",
    "\n",
    "I download the [GLOBAL_MULTIYEAR_BGC_001_029](https://resources.marine.copernicus.eu/product-detail/GLOBAL_MULTIYEAR_BGC_001_029/INFORMATION). Data resolution is 0.25 x 0.25 degrees on a ETRS89 (EPSG 4258)  projection."
   ]
  },
  {
   "cell_type": "markdown",
   "metadata": {},
   "source": [
    "Define the geographical area and timeseries subset that I want to download. Data is a bit messy and is generally averaged on the 16th of every month, except for February when it is averaged on the 15th. The averaging hours alternates between 00:00:00 and 12:00:00 with no real pattern eiter. So I download data for each year speratately. "
   ]
  },
  {
   "cell_type": "code",
   "execution_count": 60,
   "metadata": {},
   "outputs": [],
   "source": [
    "# Area definition\n",
    "lon_min = -180\n",
    "lon_max = 179.75\n",
    "lat_min = 60\n",
    "lat_max = 90"
   ]
  },
  {
   "cell_type": "markdown",
   "metadata": {},
   "source": [
    "Set output directory."
   ]
  },
  {
   "cell_type": "code",
   "execution_count": 61,
   "metadata": {},
   "outputs": [],
   "source": [
    "OUTPUT_DIRECTORY = 'data/remote_sensing/biogeochemistry/nc'"
   ]
  },
  {
   "cell_type": "markdown",
   "metadata": {},
   "source": [
    "Setup the for loop to download data.\n",
    "\n",
    "### 2015"
   ]
  },
  {
   "cell_type": "code",
   "execution_count": 65,
   "metadata": {
    "scrolled": false
   },
   "outputs": [
    {
     "name": "stdout",
     "output_type": "stream",
     "text": [
      "Downloading 2015 data at 1 m\n",
      "Finished downloading.\n"
     ]
    }
   ],
   "source": [
    "request_tmp = 'python -m motuclient \\\n",
    "--motu https://my.cmems-du.eu/motu-web/Motu \\\n",
    "--service-id GLOBAL_MULTIYEAR_BGC_001_029-TDS \\\n",
    "--product-id cmems_mod_glo_bgc_my_0.25_P1M-m  \\\n",
    "--longitude-min '+ str(lon_min) +' \\\n",
    "--longitude-max '+ str(lon_max) +' \\\n",
    "--latitude-min '+ str(lat_min) +' \\\n",
    "--latitude-max '+ str(lat_max) +' \\\n",
    "--date-min \"2015-01-16 12:00:00\" \\\n",
    "--date-max \"2015-12-16 12:00:00\" \\\n",
    "--depth-min 0.5057 \\\n",
    "--depth-max 0.5058 \\\n",
    "--variable chl --variable nppv --variable o2 \\\n",
    "--out-dir <OUTPUT_DIRECTORY> \\\n",
    "--out-name 2015_1m_chl_CMEMS.nc \\\n",
    "--user <USERNAME> --pwd <PASSWORD>'\n",
    "print(\"Downloading 2015 data at 1 m\")\n",
    "# Setup request\n",
    "data_request_options_dict_automated = motu_option_parser(request_tmp, USERNAME, PASSWORD, OUTPUT_DIRECTORY)\n",
    "# Download requested data\n",
    "motuclient.motu_api.execute_request(MotuOptions(data_request_options_dict_automated))\n",
    "print(\"Finished downloading.\")"
   ]
  },
  {
   "cell_type": "markdown",
   "metadata": {},
   "source": [
    "### 2016"
   ]
  },
  {
   "cell_type": "code",
   "execution_count": 67,
   "metadata": {
    "scrolled": false
   },
   "outputs": [
    {
     "name": "stdout",
     "output_type": "stream",
     "text": [
      "Downloading 2016 data at 1 m\n",
      "Finished downloading.\n"
     ]
    }
   ],
   "source": [
    "request_tmp = 'python -m motuclient \\\n",
    "--motu https://my.cmems-du.eu/motu-web/Motu \\\n",
    "--service-id GLOBAL_MULTIYEAR_BGC_001_029-TDS \\\n",
    "--product-id cmems_mod_glo_bgc_my_0.25_P1M-m  \\\n",
    "--longitude-min '+ str(lon_min) +' \\\n",
    "--longitude-max '+ str(lon_max) +' \\\n",
    "--latitude-min '+ str(lat_min) +' \\\n",
    "--latitude-max '+ str(lat_max) +' \\\n",
    "--date-min \"2016-01-16 12:00:00\" \\\n",
    "--date-max \"2016-12-16 12:00:00\" \\\n",
    "--depth-min 0.5057 \\\n",
    "--depth-max 0.5058 \\\n",
    "--variable chl --variable nppv --variable o2 \\\n",
    "--out-dir <OUTPUT_DIRECTORY> \\\n",
    "--out-name 2016_1m_chl_CMEMS.nc \\\n",
    "--user <USERNAME> --pwd <PASSWORD>'\n",
    "print(\"Downloading 2016 data at 1 m\")\n",
    "# Setup request\n",
    "data_request_options_dict_automated = motu_option_parser(request_tmp, USERNAME, PASSWORD, OUTPUT_DIRECTORY)\n",
    "# Download requested data\n",
    "motuclient.motu_api.execute_request(MotuOptions(data_request_options_dict_automated))\n",
    "print(\"Finished downloading.\")"
   ]
  },
  {
   "cell_type": "markdown",
   "metadata": {},
   "source": [
    "### 2017"
   ]
  },
  {
   "cell_type": "code",
   "execution_count": 68,
   "metadata": {
    "scrolled": false
   },
   "outputs": [
    {
     "name": "stdout",
     "output_type": "stream",
     "text": [
      "Downloading 2017 data at 1 m\n",
      "Finished downloading.\n"
     ]
    }
   ],
   "source": [
    "request_tmp = 'python -m motuclient \\\n",
    "--motu https://my.cmems-du.eu/motu-web/Motu \\\n",
    "--service-id GLOBAL_MULTIYEAR_BGC_001_029-TDS \\\n",
    "--product-id cmems_mod_glo_bgc_my_0.25_P1M-m  \\\n",
    "--longitude-min '+ str(lon_min) +' \\\n",
    "--longitude-max '+ str(lon_max) +' \\\n",
    "--latitude-min '+ str(lat_min) +' \\\n",
    "--latitude-max '+ str(lat_max) +' \\\n",
    "--date-min \"2017-01-16 12:00:00\" \\\n",
    "--date-max \"2017-12-16 12:00:00\" \\\n",
    "--depth-min 0.5057 \\\n",
    "--depth-max 0.5058 \\\n",
    "--variable chl --variable nppv --variable o2 \\\n",
    "--out-dir <OUTPUT_DIRECTORY> \\\n",
    "--out-name 2017_1m_chl_CMEMS.nc \\\n",
    "--user <USERNAME> --pwd <PASSWORD>'\n",
    "print(\"Downloading 2017 data at 1 m\")\n",
    "# Setup request\n",
    "data_request_options_dict_automated = motu_option_parser(request_tmp, USERNAME, PASSWORD, OUTPUT_DIRECTORY)\n",
    "# Download requested data\n",
    "motuclient.motu_api.execute_request(MotuOptions(data_request_options_dict_automated))\n",
    "print(\"Finished downloading.\")"
   ]
  },
  {
   "cell_type": "markdown",
   "metadata": {},
   "source": [
    "### Ocean colour - Monthly chlorophyll a concentrations\n",
    "\n",
    "I download the [OCEANCOLOUR_ARC_CHL_L4_REP_OBSERVATIONS_009_088](https://resources.marine.copernicus.eu/product-detail/OCEANCOLOUR_ARC_CHL_L4_REP_OBSERVATIONS_009_088/INFORMATION). Data resolution is 1 x 1 km on a  WGS 84 / Plate Carree (EPSG 32662) projection."
   ]
  },
  {
   "cell_type": "code",
   "execution_count": 6,
   "metadata": {},
   "outputs": [],
   "source": [
    "# Area definition\n",
    "lon_min = -179.95\n",
    "lon_max = 179.95\n",
    "lat_min = 66.5\n",
    "lat_max = 85\n",
    "\n",
    "# Date definitions\n",
    "date_start = dt.datetime(2016, 1, 1, 0, 0, 0)\n",
    "date_end = dt.datetime(2017, 12, 1, 0, 0, 0)\n",
    "daterange = pd.date_range(date_start, date_end, freq = \"MS\")"
   ]
  },
  {
   "cell_type": "markdown",
   "metadata": {},
   "source": [
    "Set output directory."
   ]
  },
  {
   "cell_type": "code",
   "execution_count": 7,
   "metadata": {},
   "outputs": [],
   "source": [
    "OUTPUT_DIRECTORY = 'data/remote_sensing/ocean_colour/nc'"
   ]
  },
  {
   "cell_type": "markdown",
   "metadata": {},
   "source": [
    "Setup the for loop to download data."
   ]
  },
  {
   "cell_type": "code",
   "execution_count": 8,
   "metadata": {
    "scrolled": true
   },
   "outputs": [
    {
     "name": "stdout",
     "output_type": "stream",
     "text": [
      "Downloading chl 2016-01-01\n",
      "Downloading chl 2016-02-01\n",
      "Downloading chl 2016-03-01\n",
      "Downloading chl 2016-04-01\n",
      "Downloading chl 2016-05-01\n",
      "Downloading chl 2016-06-01\n",
      "Downloading chl 2016-07-01\n",
      "Downloading chl 2016-08-01\n",
      "Downloading chl 2016-09-01\n",
      "Downloading chl 2016-10-01\n",
      "Downloading chl 2016-11-01\n",
      "Downloading chl 2016-12-01\n",
      "Downloading chl 2017-01-01\n",
      "Downloading chl 2017-02-01\n",
      "Downloading chl 2017-03-01\n",
      "Downloading chl 2017-04-01\n",
      "Downloading chl 2017-05-01\n",
      "Downloading chl 2017-06-01\n",
      "Downloading chl 2017-07-01\n",
      "Downloading chl 2017-08-01\n",
      "Downloading chl 2017-09-01\n",
      "Downloading chl 2017-10-01\n",
      "Downloading chl 2017-11-01\n",
      "Downloading chl 2017-12-01\n",
      "Download finished.\n"
     ]
    }
   ],
   "source": [
    "for date in daterange:\n",
    "    request_tmp = 'python -m motuclient \\\n",
    "    --motu https://my.cmems-du.eu/motu-web/Motu \\\n",
    "    --service-id OCEANCOLOUR_ARC_CHL_L4_REP_OBSERVATIONS_009_088-TDS \\\n",
    "    --product-id dataset-oc-arc-chl-multi_cci-l4-chl_1km_monthly-rep-v02 \\\n",
    "    --longitude-min '+ str(lon_min) +' \\\n",
    "    --longitude-max '+ str(lon_max) +' \\\n",
    "    --latitude-min '+ str(lat_min) +' \\\n",
    "    --latitude-max '+ str(lat_max) +' \\\n",
    "    --date-min \"'+ str(date) +'\" \\\n",
    "    --date-max \"'+ str(date) +'\" \\\n",
    "    --variable CHL --variable grid_mapping \\\n",
    "    --out-dir <OUTPUT_DIRECTORY> \\\n",
    "    --out-name '+ str(date.year) + str(f\"{date:%m}\") + str(f\"{date:%d}\") + \"_chl_CMEMS.nc\" +' \\\n",
    "    --user <USERNAME> --pwd <PASSWORD>'\n",
    "    print(\"Downloading chl \" + str(date.year) + \"-\" + str(f\"{date:%m}\") + \"-\" + str(f\"{date:%d}\"))\n",
    "    # Setup request\n",
    "    data_request_options_dict_automated = motu_option_parser(request_tmp, USERNAME, PASSWORD, OUTPUT_DIRECTORY)\n",
    "    # Download requested data\n",
    "    motuclient.motu_api.execute_request(MotuOptions(data_request_options_dict_automated))\n",
    "    if date == daterange[-1]:\n",
    "        print(\"Download finished.\")"
   ]
  },
  {
   "cell_type": "code",
   "execution_count": null,
   "metadata": {},
   "outputs": [],
   "source": []
  }
 ],
 "metadata": {
  "kernelspec": {
   "display_name": "Python 3",
   "language": "python",
   "name": "python3"
  },
  "language_info": {
   "codemirror_mode": {
    "name": "ipython",
    "version": 3
   },
   "file_extension": ".py",
   "mimetype": "text/x-python",
   "name": "python",
   "nbconvert_exporter": "python",
   "pygments_lexer": "ipython3",
   "version": "3.8.3"
  }
 },
 "nbformat": 4,
 "nbformat_minor": 4
}
